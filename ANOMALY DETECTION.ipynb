{
 "cells": [
  {
   "cell_type": "code",
   "execution_count": null,
   "id": "69a448e8-b4d4-48bd-a9a1-cecf9f5baf20",
   "metadata": {},
   "outputs": [],
   "source": [
    "import pandas as pd\n",
    "import numpy as np\n",
    "import pywt\n",
    "import matplotlib.pyplot as plt\n",
    "from scipy.stats import zscore\n",
    "\n",
    "# Load data\n",
    "df = pd.read_excel(\"COM_WORK (2).xlsx\",sheet_name=\"Silver\")\n",
    "df['Date'] = pd.to_datetime(df['Date'])\n",
    "df.set_index('Date', inplace=True)\n",
    "\n",
    "# Apply wavelet transform (Daubechies 4) with a higher level\n",
    "wavelet = 'db4'\n",
    "level = 4 # Increased level to capture larger deviations\n",
    "coeffs = pywt.wavedec(df['price in kg'], wavelet, level=level)\n",
    "\n",
    "# Reconstruct signal using only detail coefficients to highlight anomalies\n",
    "detail_coeffs = [pywt.upcoef('d', c, wavelet, level=i+1, take=len(df)) for i, c in enumerate(coeffs[1:])]\n",
    "\n",
    "# Pad detail coefficients with zeros to ensure they have the same length\n",
    "max_len = max(len(x) for x in detail_coeffs)\n",
    "detail_coeffs = [np.pad(x, (0, max_len - len(x)), 'constant') for x in detail_coeffs]\n",
    "\n",
    "# Now you can sum the detail coefficients safely\n",
    "detail_signal = np.sum(detail_coeffs, axis=0)\n",
    "\n",
    "\n",
    "# Compute z-score of reconstructed signal\n",
    "z_scores = zscore(detail_signal)\n",
    "thresh = 2.0  # Lower threshold to detect more anomalies\n",
    "anomalies = np.where(np.abs(z_scores) > thresh)[0]\n",
    "\n",
    "# Moving average comparison\n",
    "df['Rolling_Mean'] = df['price in kg'].rolling(window=52, min_periods=1).mean()\n",
    "df['Deviation'] = np.abs(df['price in kg'] - df['Rolling_Mean'])\n",
    "mean_dev = df['Deviation'].mean()\n",
    "anomaly_indices = df[df['Deviation'] > 2 * mean_dev].index\n",
    "\n",
    "# Combine anomalies from both methods\n",
    "final_anomalies = set(df.index[anomalies]).union(set(anomaly_indices))\n",
    "final_anomalies = list(final_anomalies)  # Convert set to list for Pandas indexing\n",
    "\n",
    "# Plot results\n",
    "plt.figure(figsize=(12,6))\n",
    "plt.plot(df.index, df['price in kg'], label='Silver Spot Price', color='blue')\n",
    "plt.scatter(final_anomalies, df.loc[final_anomalies, 'price in kg'], color='red', label='Anomalies')\n",
    "plt.xlabel('Date')\n",
    "plt.ylabel('Silver Price per kg')\n",
    "plt.title('Anomaly Detection in Silver Spot Prices')\n",
    "plt.legend()\n",
    "plt.show()"
   ]
  }
 ],
 "metadata": {
  "kernelspec": {
   "display_name": "Python 3 (ipykernel)",
   "language": "python",
   "name": "python3"
  },
  "language_info": {
   "codemirror_mode": {
    "name": "ipython",
    "version": 3
   },
   "file_extension": ".py",
   "mimetype": "text/x-python",
   "name": "python",
   "nbconvert_exporter": "python",
   "pygments_lexer": "ipython3",
   "version": "3.12.7"
  }
 },
 "nbformat": 4,
 "nbformat_minor": 5
}
